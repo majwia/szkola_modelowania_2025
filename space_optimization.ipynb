{
 "cells": [
  {
   "cell_type": "code",
   "execution_count": 174,
   "id": "041ba1f3-81e8-478a-bc2b-877cce1949f7",
   "metadata": {},
   "outputs": [],
   "source": [
    "import numpy as np"
   ]
  },
  {
   "cell_type": "code",
   "execution_count": 175,
   "id": "24c60ee7-ce04-48d7-91aa-015d1c9e2b81",
   "metadata": {},
   "outputs": [],
   "source": [
    "def pole(n, alfa):\n",
    "    alfa = alfa/180*np.pi\n",
    "    \n",
    "    if alfa == 0:\n",
    "        pole = (2*2.9+3)*n*5\n",
    "    elif alfa<=45:\n",
    "        pole = (2*(2.9*np.cos(alfa)+5*np.sin(alfa))+3.5)*(2.9*np.sin(alfa)+(n-1)*2.9/np.sin(alfa)+5*np.cos(alfa))\n",
    "    elif alfa<=60:\n",
    "        pole = (2*(2.9*np.cos(alfa)+5*np.sin(alfa))+4)*(2.9*np.sin(alfa)+(n-1)*2.9/np.sin(alfa)+5*np.cos(alfa))\n",
    "    elif alfa<=90:\n",
    "        pole = (2*(2.9*np.cos(alfa)+5*np.sin(alfa))+5)*(2.9*np.sin(alfa)+(n-1)*2.9/np.sin(alfa)+5*np.cos(alfa))\n",
    "\n",
    "    return pole"
   ]
  },
  {
   "cell_type": "code",
   "execution_count": 176,
   "id": "55200141-060e-4259-80b3-de66e79a696e",
   "metadata": {},
   "outputs": [
    {
     "name": "stdout",
     "output_type": "stream",
     "text": [
      "430.65\n"
     ]
    }
   ],
   "source": [
    "print(pole(11, 90))"
   ]
  },
  {
   "cell_type": "code",
   "execution_count": 249,
   "id": "2b6f380d-ee75-4466-92f3-dfb1b7aa6e02",
   "metadata": {},
   "outputs": [],
   "source": [
    "def max_pole(w, h):\n",
    "    pole_max = w*h\n",
    "\n",
    "    max_zapelnienie = 0\n",
    "    \n",
    "    wynik = [0,0]\n",
    "    \n",
    "    for i in range(12,96,3):\n",
    "        for j in range(30, 90, 5):\n",
    "            \n",
    "            p = pole(i, j)\n",
    "            \n",
    "            zapelnienie = p/pole_max\n",
    "\n",
    "\n",
    "            if zapelnienie>=max_zapelnienie and zapelnienie<=1:\n",
    "                wynik = [2*i, j]\n",
    "                max_zapelnienie = zapelnienie\n",
    "            \n",
    "\n",
    "    \n",
    "    return wynik, max_zapelnienie\n"
   ]
  },
  {
   "cell_type": "code",
   "execution_count": 251,
   "id": "b0695dcb-e142-4193-9313-ea48e7d42248",
   "metadata": {},
   "outputs": [
    {
     "name": "stdout",
     "output_type": "stream",
     "text": [
      "([78, 70], 0.9961976614006318)\n"
     ]
    }
   ],
   "source": [
    "print(max_pole(101, 18))"
   ]
  },
  {
   "cell_type": "code",
   "execution_count": 225,
   "id": "abad3c03-ef9e-49a5-9ef8-a6da7f52d6f1",
   "metadata": {},
   "outputs": [
    {
     "name": "stdout",
     "output_type": "stream",
     "text": [
      "Maksymalna wartość: alfa = 89.0, wynik = 35.0\n"
     ]
    },
    {
     "data": {
      "text/plain": [
       "[(0.0, 1.0),\n",
       " (1.0, 1.5834529013877083),\n",
       " (2.0, 2.1661466731625967),\n",
       " (3.0, 2.74793211272246),\n",
       " (4.0, 3.3286607824744467),\n",
       " (5.0, 3.908185019986728),\n",
       " (6.0, 4.486357947351817),\n",
       " (7.0, 5.063033479802093),\n",
       " (8.0, 5.638066333618875),\n",
       " (9.0, 6.211312033377293),\n",
       " (10.0, 6.782626918569754),\n",
       " (11.0, 7.351868149651597),\n",
       " (12.0, 7.918893713553007),\n",
       " (12.999999999999998, 8.483562428701836),\n",
       " (14.0, 9.045733949602353),\n",
       " (15.0, 9.605268771015364),\n",
       " (16.0, 10.16202823178542),\n",
       " (17.0, 10.715874518361066),\n",
       " (18.0, 11.26667066805418),\n",
       " (19.000000000000004, 11.814280572084684),\n",
       " (20.0, 12.358568978456683),\n",
       " (21.0, 12.899401494712315),\n",
       " (22.0, 13.436644590609163),\n",
       " (23.0, 13.970165600767185),\n",
       " (24.0, 14.499832727330507),\n",
       " (25.0, 15.025515042689442),\n",
       " (25.999999999999996, 15.547082492307341),\n",
       " (27.0, 16.06440589769672),\n",
       " (28.0, 16.577356959588222),\n",
       " (29.000000000000004, 17.085808261335675),\n",
       " (30.0, 17.589633272599617),\n",
       " (31.0, 18.088706353350947),\n",
       " (32.0, 18.58290275823557),\n",
       " (33.0, 19.072098641340055),\n",
       " (34.0, 19.55617106139734),\n",
       " (35.0, 20.034997987470394),\n",
       " (36.0, 20.508458305151052),\n",
       " (37.0, 20.976431823309575),\n",
       " (38.00000000000001, 21.43879928142989),\n",
       " (39.00000000000001, 21.895442357563677),\n",
       " (40.0, 22.346243676935707),\n",
       " (41.0, 22.79108682123101),\n",
       " (42.0, 23.229856338593436),\n",
       " (43.0, 23.66243775436354),\n",
       " (44.0, 24.08871758258228),\n",
       " (45.0, 24.508583338285465),\n",
       " (46.0, 24.921923550612433),\n",
       " (47.0, 25.328627776750643),\n",
       " (48.0, 25.728586616736358),\n",
       " (48.99999999999999, 26.121691729129903),\n",
       " (50.0, 26.50783584758214),\n",
       " (51.0, 26.886912798307158),\n",
       " (51.99999999999999, 27.25881751847453),\n",
       " (53.0, 27.623446075532218),\n",
       " (54.0, 27.980695687470032),\n",
       " (55.00000000000001, 28.330464744031097),\n",
       " (56.0, 28.672652828877315),\n",
       " (57.0, 29.007160742712703),\n",
       " (58.00000000000001, 29.333890527366687),\n",
       " (58.99999999999999, 29.652745490837447),\n",
       " (60.0, 29.96363023329367),\n",
       " (60.99999999999999, 30.26645067403075),\n",
       " (62.0, 30.56111407937599),\n",
       " (62.99999999999999, 30.847529091535197),\n",
       " (64.0, 31.125605758371048),\n",
       " (65.0, 31.395255564101852),\n",
       " (66.0, 31.6563914609074),\n",
       " (67.0, 31.908927901426463),\n",
       " (68.0, 32.15278087212889),\n",
       " (69.0, 32.387867927543184),\n",
       " (70.0, 32.61410822531855),\n",
       " (71.0, 32.831422562098766),\n",
       " (72.0, 33.03973341018304),\n",
       " (73.0, 33.23896495494757),\n",
       " (74.0, 33.42904313299955),\n",
       " (75.0, 33.609895671033634),\n",
       " (76.00000000000001, 33.78145212535913),\n",
       " (77.0, 33.94364392206466),\n",
       " (78.00000000000001, 34.09640439778514),\n",
       " (79.0, 34.23966884103453),\n",
       " (80.0, 34.37337453406603),\n",
       " (81.0, 34.49746079522025),\n",
       " (82.0, 34.6118690217197),\n",
       " (83.0, 34.71654273286742),\n",
       " (84.0, 34.81142761360533),\n",
       " (85.0, 34.896471558387255),\n",
       " (86.0, 34.97162471531953),\n",
       " (87.0, 35.03683953052187),\n",
       " (88.0, 35.092070792658866),\n",
       " (89.0, 35.137275677592406)]"
      ]
     },
     "execution_count": 225,
     "metadata": {},
     "output_type": "execute_result"
    }
   ],
   "source": [
    "def max_n(l):\n",
    "    alfas = np.arange(0,90,1)\n",
    "\n",
    "    alfas = alfas/180*np.pi\n",
    "    res =[(alfa, (l*np.sin(alfa) - 2.9*np.sin(alfa)**2 + 2.9 - 5*np.cos(alfa)*np.sin(alfa))/2.9) for alfa in alfas]\n",
    "\n",
    "    max_result = max(res, key=lambda x: x[1])\n",
    "\n",
    "    print(f\"Maksymalna wartość: alfa = {max_result[0]/np.pi*180}, wynik = {np.floor(max_result[1])}\")\n",
    "    sorted_res = sorted(res, key=lambda x: x[1])\n",
    "    sorted_repr = [(x[0]/np.pi*180, x[1]) for x in sorted_res]\n",
    "    return sorted_repr\n",
    "\n",
    "\n",
    "max_n(102)"
   ]
  },
  {
   "cell_type": "code",
   "execution_count": 259,
   "id": "084a06c4-b106-4019-83f9-38de4366b72d",
   "metadata": {},
   "outputs": [
    {
     "data": {
      "text/plain": [
       "5.0"
      ]
     },
     "execution_count": 259,
     "metadata": {},
     "output_type": "execute_result"
    }
   ],
   "source": [
    "def n(l,alfa):\n",
    "    alfa = alfa/180*np.pi\n",
    "    return np.floor((l*np.sin(alfa) - 2.9*np.sin(alfa)**2 + 2.9 - 5*np.cos(alfa)*np.sin(alfa))/2.9)\n",
    "\n",
    "\n",
    "n(18,70)"
   ]
  },
  {
   "cell_type": "code",
   "execution_count": 231,
   "id": "ef138ad9-f98c-4d59-b65d-732f30575425",
   "metadata": {},
   "outputs": [
    {
     "data": {
      "text/plain": [
       "(96.0, 31.3445742854949)"
      ]
     },
     "execution_count": 231,
     "metadata": {},
     "output_type": "execute_result"
    }
   ],
   "source": [
    "def szerokosc(alfa, wysokosc, liczba_rzedow):\n",
    "    \n",
    "    alfa1 = alfa/180*np.pi\n",
    "\n",
    "    if alfa == 0:\n",
    "        w = 2*2.9+5+1\n",
    "    elif alfa<=45:\n",
    "        w = 2*(2.9*np.cos(alfa1)+5*np.sin(alfa1))+3.5+1\n",
    "    elif alfa<=60:\n",
    "        w = 2*(2.9*np.cos(alfa1)+5*np.sin(alfa1))+4+1\n",
    "    elif alfa<=90:\n",
    "        w = 2*(2.9*np.cos(alfa1)+5*np.sin(alfa1))+5+1\n",
    "\n",
    "    n1 = n(wysokosc,alfa)\n",
    "    \n",
    "    szerokosc = liczba_rzedow*w\n",
    "\n",
    "    return (n1*liczba_rzedow*2, szerokosc)\n",
    "\n",
    "\n",
    "szerokosc(45, 102, 2)"
   ]
  },
  {
   "cell_type": "code",
   "execution_count": 182,
   "id": "593c5c3c-3c87-40d6-a219-a93cc6a9e745",
   "metadata": {},
   "outputs": [],
   "source": [
    "def y(alfa, n):\n",
    "    alfa = alfa/180*np.pi\n",
    "\n",
    "    return 2.9*np.sin(alfa)+(n-1)*2.9/np.sin(alfa)+5*np.cos(alfa)\n",
    "\n",
    "def x_kol(alfa):\n",
    "    alfa = alfa/180*np.pi\n",
    "    return 2.9*np.cos(alfa)+5*np.sin(alfa)"
   ]
  },
  {
   "cell_type": "code",
   "execution_count": 295,
   "id": "9ef5b1b4-ef91-4085-8677-c7ea79574076",
   "metadata": {},
   "outputs": [
    {
     "name": "stdout",
     "output_type": "stream",
     "text": [
      "5.690321519573981\n",
      "Wysokosc: 42.4971175493115\n",
      "Szerokosc: 102.70600999923215\n"
     ]
    }
   ],
   "source": [
    "print(x_kol(70))\n",
    "print(f\"Wysokosc: {y(45, 10)}\")\n",
    "print(f\"Szerokosc: {7*(2*x_kol(45)+3.5)}\")\n",
    "\n"
   ]
  },
  {
   "cell_type": "code",
   "execution_count": 184,
   "id": "fcc83d77-1ce4-4199-b594-2fc9f8ba683b",
   "metadata": {},
   "outputs": [],
   "source": [
    "def pole_ubytku(alfa, n):\n",
    "    alfa = alfa/180*np.pi\n",
    "    return (2.9)**2/2*((n-1)*np.cos(alfa)/np.sin(alfa)+np.sin(alfa)*np.cos(alfa))"
   ]
  },
  {
   "cell_type": "code",
   "execution_count": 185,
   "id": "55a51a77-d9ad-44b2-bade-08e046b00d49",
   "metadata": {},
   "outputs": [],
   "source": [
    "def procent_ubytku_w_kol(alfa,n):\n",
    "    return pole_ubytku(60, 12)/(x_kol(60)*y(60,12))*100"
   ]
  },
  {
   "cell_type": "code",
   "execution_count": 186,
   "id": "df4b3667-a763-4cc2-a1e4-d4cd436d930a",
   "metadata": {},
   "outputs": [
    {
     "data": {
      "text/plain": [
       "11.793631091669301"
      ]
     },
     "execution_count": 186,
     "metadata": {},
     "output_type": "execute_result"
    }
   ],
   "source": [
    "procent_ubytku_w_kol(60,12)"
   ]
  },
  {
   "cell_type": "code",
   "execution_count": 277,
   "id": "b4452ba0-12c2-45f0-bf93-3be2275228fc",
   "metadata": {},
   "outputs": [],
   "source": [
    "def procent_ubytku_calosci(szer_dzialki, wys_dzialki, alfa, n, ilosc_kolumn):\n",
    "    return (ilosc_kolumn*2*pole_ubytku(alfa, n))/(szer_dzialki*wys_dzialki)*100"
   ]
  },
  {
   "cell_type": "code",
   "execution_count": 279,
   "id": "c6e8248a-9ea1-4f11-9543-169b9f5fc255",
   "metadata": {},
   "outputs": [
    {
     "data": {
      "text/plain": [
       "5.706785714285714"
      ]
     },
     "execution_count": 279,
     "metadata": {},
     "output_type": "execute_result"
    }
   ],
   "source": [
    "procent_ubytku_calosci(70,140, 45,10, 7)"
   ]
  },
  {
   "cell_type": "code",
   "execution_count": 189,
   "id": "d5cd45f0-b6f4-4f25-a668-f7e5840490e1",
   "metadata": {},
   "outputs": [],
   "source": [
    "#def prostopadle_z_inwalidami(szerokosc):\n",
    "    "
   ]
  },
  {
   "cell_type": "code",
   "execution_count": 297,
   "id": "0bb2ade7-348f-40b6-8a7a-9850943be24b",
   "metadata": {},
   "outputs": [],
   "source": [
    "def procent_powierzchni_zielone_war1(w, h):\n",
    "    return (28*70 - 18*40 + 111*0.5 + 5.78*6 + 98.22*0.5 + 69)/(w*h)*100"
   ]
  },
  {
   "cell_type": "code",
   "execution_count": 299,
   "id": "b3d1a0dd-6c28-412d-a613-f623534e7c0c",
   "metadata": {},
   "outputs": [
    {
     "data": {
      "text/plain": [
       "15.084591836734692"
      ]
     },
     "execution_count": 299,
     "metadata": {},
     "output_type": "execute_result"
    }
   ],
   "source": [
    "procent_powierzchni_zielone_war1(140, 70)"
   ]
  },
  {
   "cell_type": "code",
   "execution_count": null,
   "id": "4bee0471-4310-4808-8d96-4cbd4b105d64",
   "metadata": {},
   "outputs": [],
   "source": [
    "def procent_powierzchni_zielone_war2(w, h):\n",
    "    return (29*70 - 19*40 + 111*0.5 + 5.78*6 + 98.22*0.5 + 69)/(w*h)*100"
   ]
  }
 ],
 "metadata": {
  "kernelspec": {
   "display_name": "Python 3 (ipykernel)",
   "language": "python",
   "name": "python3"
  },
  "language_info": {
   "codemirror_mode": {
    "name": "ipython",
    "version": 3
   },
   "file_extension": ".py",
   "mimetype": "text/x-python",
   "name": "python",
   "nbconvert_exporter": "python",
   "pygments_lexer": "ipython3",
   "version": "3.12.4"
  }
 },
 "nbformat": 4,
 "nbformat_minor": 5
}
